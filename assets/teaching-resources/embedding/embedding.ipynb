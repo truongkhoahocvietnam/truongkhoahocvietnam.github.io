{
  "nbformat": 4,
  "nbformat_minor": 0,
  "metadata": {
    "colab": {
      "name": "embedding.ipynb",
      "provenance": [],
      "collapsed_sections": []
    },
    "kernelspec": {
      "name": "python3",
      "display_name": "Python 3"
    },
    "language_info": {
      "name": "python"
    }
  },
  "cells": [
    {
      "cell_type": "markdown",
      "source": [
        "# SFC Embedding Example\n",
        "\n",
        "Solve the example using library `pulp`\n",
        "\n",
        "Documentation: https://coin-or.github.io/pulp/\n",
        "\n",
        "\n",
        "<img src=\"https://uphinh.vn/images/2022/04/12/54aa334d32010c9f193471fd7d9bfbc1.md.png\" alt=\"drawing\" width=\"300\"/>"
      ],
      "metadata": {
        "id": "1b1aa0inmnwE"
      }
    },
    {
      "cell_type": "code",
      "source": [
        "!pip install pulp"
      ],
      "metadata": {
        "colab": {
          "base_uri": "https://localhost:8080/"
        },
        "id": "9LXD8Z44sTX9",
        "outputId": "4a15df14-5fbd-47dd-ff67-592eb68654ef"
      },
      "execution_count": 2,
      "outputs": [
        {
          "output_type": "stream",
          "name": "stdout",
          "text": [
            "Collecting pulp\n",
            "  Downloading PuLP-2.6.0-py3-none-any.whl (14.2 MB)\n",
            "\u001b[K     |████████████████████████████████| 14.2 MB 12.8 MB/s \n",
            "\u001b[?25hInstalling collected packages: pulp\n",
            "Successfully installed pulp-2.6.0\n"
          ]
        }
      ]
    },
    {
      "cell_type": "code",
      "source": [
        "from pulp import *\n",
        "\n",
        "# Network setup\n",
        "Ns, Nv, Es, Ev = 3, 2, 6, 1\n",
        "Es_id = [12, 13, 21, 23, 31, 32]\n",
        "Ev_id = [12]\n",
        "ids = {\n",
        "  \"x\": [[1,1],[1,2],[1,3],[2,1],[2,2],[2,3]],\n",
        "  \"y\": [[1,2,1,2],[1,2,1,3],[1,2,2,1],[1,2,2,3],[1,2,3,1],[1,2,3,2]]\n",
        "}\n",
        "\n",
        "# Create the model\n",
        "model = LpProblem(name=\"embedding\", sense=LpMinimize)\n",
        "\n",
        "# Initialize the decision variables: x and y are binaries\n",
        "x = LpVariable.dicts(name=\"x\", indices=[(v+1, i+1) \n",
        "                    for v in range(Nv) for i in range(Ns)], cat='Binary')\n",
        "y = LpVariable.dicts(name=\"y\", indices=[(Ev_id[ev], Es_id[es]) \n",
        "                    for ev in range(Ev) for es in range(Es)], cat='Binary')"
      ],
      "metadata": {
        "id": "7yf9-qWkr0K_"
      },
      "execution_count": 3,
      "outputs": []
    },
    {
      "cell_type": "markdown",
      "source": [
        "#### **Constraint 1:** Capacity limit constraint\n",
        "$$\n",
        "\\begin{align*}\n",
        "\\sum_{v\\in\\mathcal{N}_{s}}r_{v} x_{i}^{v} & \\leq a_{i},\\quad\\forall i\\in\\mathcal{N},\\\\\n",
        "\\sum_{vw\\in\\mathcal{E}_{s}}r_{vw} y_{ij}^{vw} & \\leq a_{ij},\\quad\\forall ij\\in\\mathcal{E}.\n",
        "\\end{align*}\n",
        "$$"
      ],
      "metadata": {
        "id": "kQE0Xmv6fggE"
      }
    },
    {
      "cell_type": "code",
      "source": [
        "model += (2* x[(1,1)] + 2* x[(2,1)] <= 10, \"C1_Node_1\")\n",
        "model += (2* x[(1,2)] + 2* x[(2,2)] <= 10, \"C1_Node_2\")\n",
        "model += (2* x[(1,3)] + 2* x[(2,3)] <= 10, \"C1_Node_3\")\n",
        "\n",
        "model += (2* y[(12,12)] <= 10, \"C1_Link_1\")\n",
        "model += (2* y[(12,13)] <= 10, \"C1_Link_2\")\n",
        "model += (2* y[(12,21)] <= 10, \"C1_Link_3\")\n",
        "model += (2* y[(12,23)] <= 10, \"C1_Link_4\")\n",
        "model += (2* y[(12,31)] <= 10, \"C1_Link_5\")\n",
        "model += (2* y[(12,32)] <= 10, \"C1_Link_6\")"
      ],
      "metadata": {
        "id": "3S_gmXdAfl2t"
      },
      "execution_count": 4,
      "outputs": []
    },
    {
      "cell_type": "markdown",
      "source": [
        "#### **Constraint 2:** Each VNF in the SFC is mapped onto *different* physical node\n",
        "$$\n",
        "\\begin{align*}\n",
        "\\sum_{v\\in\\mathcal{N}_{s}} x_{i}^{v} \\leq1,\\quad\\forall i\\in\\mathcal{N}.\n",
        "\\end{align*}\n",
        "$$"
      ],
      "metadata": {
        "id": "hRnFiL05fmPz"
      }
    },
    {
      "cell_type": "code",
      "source": [
        "model += (x[(1,1)] + x[(2,1)] <= 1, \"C2_1\")\n",
        "model += (x[(1,2)] + x[(2,2)] <= 1, \"C2_2\")\n",
        "model += (x[(1,3)] + x[(2,3)] <= 1, \"C2_3\")"
      ],
      "metadata": {
        "id": "mXP20rj1fmkJ"
      },
      "execution_count": 5,
      "outputs": []
    },
    {
      "cell_type": "markdown",
      "source": [
        "#### **Constraint 3:** Each VNF in the SFC is mapped to *only* one physical node\n",
        "$$\n",
        "\\begin{align*}\n",
        "\\sum_{i\\in\\mathcal{N}} x_{i}^{v} = 1,\\quad\\forall v\\in\\mathcal{N}_{s}.\n",
        "\\end{align*}\n",
        "$$\n",
        "\n"
      ],
      "metadata": {
        "id": "ZMko8xNSfmz9"
      }
    },
    {
      "cell_type": "code",
      "source": [
        "model += (x[(1,1)] + x[(1,2)] + x[(1,3)] == 1, \"C3_1\")\n",
        "model += (x[(2,1)] + x[(2,2)] + x[(2,3)] == 1, \"C3_2\")"
      ],
      "metadata": {
        "id": "e9p2yal4fnAF"
      },
      "execution_count": 6,
      "outputs": []
    },
    {
      "cell_type": "markdown",
      "source": [
        "#### **Constraint 4:** Flow conservation\n",
        "$$\n",
        "\\begin{align*}\n",
        "\\sum_{j\\in\\mathcal{N}} y_{ij}^{vw}-\\sum_{j\\in\\mathcal{N}} y_{ji}^{vw} = x_{i}^{v} - x_{i}^{w}, \\quad\\forall i\\in\\mathcal{N},vw\\in\\mathcal{E}_{s}.\n",
        "\\end{align*}\n",
        "$$\n"
      ],
      "metadata": {
        "id": "kiNc-sHWfnOa"
      }
    },
    {
      "cell_type": "code",
      "source": [
        "model += (x[(1,1)] - x[(2,1)] - y[(12,12)] - y[(12,13)] + y[(12,21)] + y[(12,31)] == 0, \"C4_1\")\n",
        "model += (x[(1,2)] - x[(2,2)] + y[(12,12)] - y[(12,21)] - y[(12,23)] + y[(12,32)] == 0, \"C4_2\")\n",
        "model += (x[(1,3)] - x[(2,3)] + y[(12,13)] + y[(12,23)] - y[(12,31)] - y[(12,32)] == 0, \"C4_3\")"
      ],
      "metadata": {
        "id": "G0uP-zT9fnZZ"
      },
      "execution_count": 7,
      "outputs": []
    },
    {
      "cell_type": "markdown",
      "source": [
        "#### **Objective function:** \n",
        "$$\n",
        "\\min \\underbrace{\\sum_{i\\in\\mathcal{N}}\\sum_{v\\in\\mathcal{N}_{s}}r_{v}c_{i}x_{i}^{v}}_{\\mbox{node resource cost}}+\\underbrace{\\sum_{ij\\in\\mathcal{E}}\\sum_{vw\\in\\mathcal{E}_{s}}r_{vw}c_{ij}y_{ij}^{vw}}_{\\mbox{link resource cost}}+\\underbrace{\\sum_{ij\\in\\mathcal{E}}\\sum_{vw\\in\\mathcal{E}_{s}}d_{ij}y_{ij}^{vw}}_{\\mbox{latency}}\n",
        "$$"
      ],
      "metadata": {
        "id": "G60NybhffnlP"
      }
    },
    {
      "cell_type": "code",
      "source": [
        "model +=  2* x[(1,1)] + 2* x[(2,1)] + 2* x[(1,2)] + \\\n",
        "          2* x[(2,2)] + 2* x[(1,3)] + 2* x[(2,3)] + \\\n",
        "          4* y[(12,12)] + 5* y[(12,13)] + 4* y[(12,21)] + \\\n",
        "          3* y[(12,23)] + 5* y[(12,31)] + 3* y[(12,32)]"
      ],
      "metadata": {
        "id": "zEL_qwKtfnvg"
      },
      "execution_count": 8,
      "outputs": []
    },
    {
      "cell_type": "markdown",
      "source": [
        "### Solve the optimization problem"
      ],
      "metadata": {
        "id": "e41idGihfn4e"
      }
    },
    {
      "cell_type": "code",
      "source": [
        "status = model.solve()\n",
        "\n",
        "print(f\"Status: {model.status}, {LpStatus[model.status]}\")\n",
        "print(f\"\\nObjective: {model.objective.value()}\")\n",
        "print('\\nVariables:')\n",
        "for var in model.variables():\n",
        "    print(f\"\\t{var.name}: \\t {var.value()}\")\n",
        "\n",
        "# for name, constraint in model.constraints.items():\n",
        "#     print(f\"{name}: {constraint.value()}\")\n",
        "\n",
        "# Mapped nodes and links\n",
        "print('\\nEmbedding solution:')\n",
        "print('Nodes:')\n",
        "for i in range(len(x)):\n",
        "  tmp = ids['x'][i]\n",
        "  m = tmp[0]\n",
        "  n = tmp[1]\n",
        "  xi = x[(m,n)].value()\n",
        "  if xi == 1:\n",
        "    print('\\t(v' + str(m) + ') -> (i' + str(n) + ')')\n",
        "\n",
        "print('Links:')    \n",
        "for i in range(len(y)):\n",
        "  tmp = ids['y'][i]\n",
        "  m = int(str(tmp[0]) + str(tmp[1]))\n",
        "  n = int(str(tmp[2]) + str(tmp[3]))\n",
        "  yi = y[(m, n)].value()\n",
        "  if yi == 1:\n",
        "    print('\\t(v' + str(tmp[0]) + '-v' + str(tmp[1]) + ') -> (i' + str(tmp[2]) + '-i' + str(tmp[3]) + ')')\n"
      ],
      "metadata": {
        "colab": {
          "base_uri": "https://localhost:8080/"
        },
        "id": "5GXRB39LfoB9",
        "outputId": "6992a0c8-aa29-44ce-a62d-a5fb5d697fde"
      },
      "execution_count": 9,
      "outputs": [
        {
          "output_type": "stream",
          "name": "stdout",
          "text": [
            "Status: 1, Optimal\n",
            "\n",
            "Objective: 7.0\n",
            "\n",
            "Variables:\n",
            "\tx_(1,_1): \t 0.0\n",
            "\tx_(1,_2): \t 1.0\n",
            "\tx_(1,_3): \t 0.0\n",
            "\tx_(2,_1): \t 0.0\n",
            "\tx_(2,_2): \t 0.0\n",
            "\tx_(2,_3): \t 1.0\n",
            "\ty_(12,_12): \t 0.0\n",
            "\ty_(12,_13): \t 0.0\n",
            "\ty_(12,_21): \t 0.0\n",
            "\ty_(12,_23): \t 1.0\n",
            "\ty_(12,_31): \t 0.0\n",
            "\ty_(12,_32): \t 0.0\n",
            "\n",
            "Embedding solution:\n",
            "Nodes:\n",
            "\t(v1) -> (i2)\n",
            "\t(v2) -> (i3)\n",
            "Links:\n",
            "\t(v1-v2) -> (i2-i3)\n"
          ]
        }
      ]
    }
  ]
}